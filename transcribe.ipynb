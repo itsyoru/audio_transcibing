{
  "nbformat": 4,
  "nbformat_minor": 0,
  "metadata": {
    "colab": {
      "provenance": [],
      "authorship_tag": "ABX9TyMrFjbWu/TICxSwJom8KOhB",
      "include_colab_link": true
    },
    "kernelspec": {
      "name": "python3",
      "display_name": "Python 3"
    },
    "language_info": {
      "name": "python"
    }
  },
  "cells": [
    {
      "cell_type": "markdown",
      "metadata": {
        "id": "view-in-github",
        "colab_type": "text"
      },
      "source": [
        "<a href=\"https://colab.research.google.com/github/itsyoru/audio_transcibing/blob/main/transcribe.ipynb\" target=\"_parent\"><img src=\"https://colab.research.google.com/assets/colab-badge.svg\" alt=\"Open In Colab\"/></a>"
      ]
    },
    {
      "cell_type": "code",
      "execution_count": null,
      "metadata": {
        "colab": {
          "base_uri": "https://localhost:8080/"
        },
        "collapsed": true,
        "id": "j54U38V0jhNH",
        "outputId": "37b499c2-c8db-439d-8d80-7bbcc0d9f096"
      },
      "outputs": [
        {
          "output_type": "stream",
          "name": "stdout",
          "text": [
            "Collecting vosk\n",
            "  Downloading vosk-0.3.45-py3-none-manylinux_2_12_x86_64.manylinux2010_x86_64.whl.metadata (1.8 kB)\n",
            "Requirement already satisfied: cffi>=1.0 in /usr/local/lib/python3.11/dist-packages (from vosk) (1.17.1)\n",
            "Requirement already satisfied: requests in /usr/local/lib/python3.11/dist-packages (from vosk) (2.32.3)\n",
            "Requirement already satisfied: tqdm in /usr/local/lib/python3.11/dist-packages (from vosk) (4.67.1)\n",
            "Collecting srt (from vosk)\n",
            "  Downloading srt-3.5.3.tar.gz (28 kB)\n",
            "  Preparing metadata (setup.py) ... \u001b[?25l\u001b[?25hdone\n",
            "Requirement already satisfied: websockets in /usr/local/lib/python3.11/dist-packages (from vosk) (15.0.1)\n",
            "Requirement already satisfied: pycparser in /usr/local/lib/python3.11/dist-packages (from cffi>=1.0->vosk) (2.22)\n",
            "Requirement already satisfied: charset-normalizer<4,>=2 in /usr/local/lib/python3.11/dist-packages (from requests->vosk) (3.4.1)\n",
            "Requirement already satisfied: idna<4,>=2.5 in /usr/local/lib/python3.11/dist-packages (from requests->vosk) (3.10)\n",
            "Requirement already satisfied: urllib3<3,>=1.21.1 in /usr/local/lib/python3.11/dist-packages (from requests->vosk) (2.3.0)\n",
            "Requirement already satisfied: certifi>=2017.4.17 in /usr/local/lib/python3.11/dist-packages (from requests->vosk) (2025.1.31)\n",
            "Downloading vosk-0.3.45-py3-none-manylinux_2_12_x86_64.manylinux2010_x86_64.whl (7.2 MB)\n",
            "\u001b[2K   \u001b[90m━━━━━━━━━━━━━━━━━━━━━━━━━━━━━━━━━━━━━━━━\u001b[0m \u001b[32m7.2/7.2 MB\u001b[0m \u001b[31m49.0 MB/s\u001b[0m eta \u001b[36m0:00:00\u001b[0m\n",
            "\u001b[?25hBuilding wheels for collected packages: srt\n",
            "  Building wheel for srt (setup.py) ... \u001b[?25l\u001b[?25hdone\n",
            "  Created wheel for srt: filename=srt-3.5.3-py3-none-any.whl size=22427 sha256=45ef16819dea4ad82bafde3072d818907ef382d3d38b6e3ca95b9cd5911c8501\n",
            "  Stored in directory: /root/.cache/pip/wheels/1f/43/f1/23ee9119497fcb57d9f7046fbf34c6d9027c46a1fa7824cf08\n",
            "Successfully built srt\n",
            "Installing collected packages: srt, vosk\n",
            "Successfully installed srt-3.5.3 vosk-0.3.45\n"
          ]
        }
      ],
      "source": [
        "!pip install vosk"
      ]
    },
    {
      "cell_type": "code",
      "source": [
        "from vosk import Model, KaldiRecognizer"
      ],
      "metadata": {
        "id": "5a7GxYS2jxtK"
      },
      "execution_count": null,
      "outputs": []
    },
    {
      "cell_type": "code",
      "source": [
        "FRAME_RATE = 16000\n",
        "CHANNELS = 1\n",
        "\n",
        "model = Model(model_name = 'vosk-model-en-us-0.22')\n",
        "\n",
        "rec = KaldiRecognizer(model, FRAME_RATE)\n",
        "rec.SetWords(True)"
      ],
      "metadata": {
        "colab": {
          "base_uri": "https://localhost:8080/"
        },
        "id": "JcoxY9rcj2RI",
        "outputId": "b38062e5-32d5-4dd4-d507-c98bfaad9c38"
      },
      "execution_count": null,
      "outputs": [
        {
          "output_type": "stream",
          "name": "stderr",
          "text": [
            "vosk-model-en-us-0.22.zip: 100%|██████████| 1.78G/1.78G [01:49<00:00, 17.5MB/s]\n"
          ]
        }
      ]
    },
    {
      "cell_type": "code",
      "source": [
        "!pip install pydub"
      ],
      "metadata": {
        "colab": {
          "base_uri": "https://localhost:8080/"
        },
        "id": "jdS8LLHRkTOg",
        "outputId": "0e520ee8-dc15-461e-ae7a-9d9c0ab02a27"
      },
      "execution_count": null,
      "outputs": [
        {
          "output_type": "stream",
          "name": "stdout",
          "text": [
            "Collecting pydub\n",
            "  Downloading pydub-0.25.1-py2.py3-none-any.whl.metadata (1.4 kB)\n",
            "Downloading pydub-0.25.1-py2.py3-none-any.whl (32 kB)\n",
            "Installing collected packages: pydub\n",
            "Successfully installed pydub-0.25.1\n"
          ]
        }
      ]
    },
    {
      "cell_type": "code",
      "source": [
        "from pydub import AudioSegment"
      ],
      "metadata": {
        "id": "ivkVXKBDk3SO"
      },
      "execution_count": null,
      "outputs": []
    },
    {
      "cell_type": "code",
      "source": [
        "mp3 = AudioSegment.from_mp3('marketplace.mp3')\n",
        "mp3 = mp3.set_channels(CHANNELS)\n",
        "mp3 = mp3.set_frame_rate(FRAME_RATE)"
      ],
      "metadata": {
        "id": "7GbWAnFrlDk3"
      },
      "execution_count": null,
      "outputs": []
    },
    {
      "cell_type": "code",
      "source": [
        "rec. AcceptWaveform(mp3.raw_data)\n",
        "result = rec.Result()"
      ],
      "metadata": {
        "id": "2c9tV_oQlQce"
      },
      "execution_count": null,
      "outputs": []
    },
    {
      "cell_type": "code",
      "source": [
        "import json\n",
        "\n",
        "text = json.loads(result)['text']\n",
        "print(text)"
      ],
      "metadata": {
        "colab": {
          "base_uri": "https://localhost:8080/"
        },
        "id": "T1Fgwcz2lPZ0",
        "outputId": "db2cf453-cc88-45f1-dddd-9e7ff1e7ff24"
      },
      "execution_count": null,
      "outputs": [
        {
          "output_type": "stream",
          "name": "stdout",
          "text": [
            "the funny thing about the big economic news of the day the fed raising interest rates half a percentage point was that there was only really one tidbit of actual news in the news and the interest rate increase wasn't it you knew it was coming i knew it was common wall street news come and businesses knew it was common so on this fed day on this program something a little bit different jay powell in his own words five of 'em his most used economic words from today's press conference were number one of course it's the biggie two percent inflation inflation inflation inflation inflation inflation lh dealing with inflation pals big worry the thing keeping him up at night price stability is the fed's whole ballgame right now pau basically said as much today we're number two the funny thing about the big economic news of the day the fed raising interest rates half a percentage point was that there was only really one tidbit of actual news in the news and the interest rate increase wasn't it you know it was coming i knew it was common wall street news come and businesses knew it was common so on this fed day on this program something a little bit different jay powell in his own words five of 'em his most used economic words from today's press conference were number one of course it's the biggie two percent inflation inflation inflation inflation inflation inflation lh dealing with inflation pals big worry the thing keeping him up at night price stability is the fed's whole ballgame right now pau basically said as much today we're done\n"
          ]
        }
      ]
    },
    {
      "cell_type": "code",
      "source": [
        "json.loads(result)"
      ],
      "metadata": {
        "colab": {
          "base_uri": "https://localhost:8080/"
        },
        "collapsed": true,
        "id": "Y4XZvTxKmbeN",
        "outputId": "f7370ef2-2a08-4530-aa78-67c08b0c5dec"
      },
      "execution_count": null,
      "outputs": [
        {
          "output_type": "execute_result",
          "data": {
            "text/plain": [
              "{'result': [{'conf': 1.0, 'end': 0.18, 'start': 0.09, 'word': 'the'},\n",
              "  {'conf': 1.0, 'end': 0.57, 'start': 0.18, 'word': 'funny'},\n",
              "  {'conf': 1.0, 'end': 0.96, 'start': 0.6, 'word': 'thing'},\n",
              "  {'conf': 1.0, 'end': 1.23, 'start': 0.96, 'word': 'about'},\n",
              "  {'conf': 1.0, 'end': 1.32, 'start': 1.23, 'word': 'the'},\n",
              "  {'conf': 1.0, 'end': 1.68, 'start': 1.32, 'word': 'big'},\n",
              "  {'conf': 1.0, 'end': 2.22, 'start': 1.71, 'word': 'economic'},\n",
              "  {'conf': 1.0, 'end': 2.49, 'start': 2.22, 'word': 'news'},\n",
              "  {'conf': 1.0, 'end': 2.58, 'start': 2.49, 'word': 'of'},\n",
              "  {'conf': 1.0, 'end': 2.67, 'start': 2.58, 'word': 'the'},\n",
              "  {'conf': 1.0, 'end': 3.06, 'start': 2.67, 'word': 'day'},\n",
              "  {'conf': 1.0, 'end': 3.75, 'start': 3.63, 'word': 'the'},\n",
              "  {'conf': 1.0, 'end': 3.96, 'start': 3.75, 'word': 'fed'},\n",
              "  {'conf': 1.0, 'end': 4.26, 'start': 3.96, 'word': 'raising'},\n",
              "  {'conf': 1.0, 'end': 4.59, 'start': 4.26, 'word': 'interest'},\n",
              "  {'conf': 1.0, 'end': 4.98, 'start': 4.59, 'word': 'rates'},\n",
              "  {'conf': 1.0, 'end': 5.28, 'start': 5.01, 'word': 'half'},\n",
              "  {'conf': 1.0, 'end': 5.31, 'start': 5.28, 'word': 'a'},\n",
              "  {'conf': 1.0, 'end': 5.7, 'start': 5.31, 'word': 'percentage'},\n",
              "  {'conf': 1.0, 'end': 6.0, 'start': 5.7, 'word': 'point'},\n",
              "  {'conf': 1.0, 'end': 6.87, 'start': 6.6, 'word': 'was'},\n",
              "  {'conf': 1.0, 'end': 6.96, 'start': 6.87, 'word': 'that'},\n",
              "  {'conf': 1.0, 'end': 7.08, 'start': 6.96, 'word': 'there'},\n",
              "  {'conf': 1.0, 'end': 7.23, 'start': 7.08, 'word': 'was'},\n",
              "  {'conf': 1.0, 'end': 7.47, 'start': 7.23, 'word': 'only'},\n",
              "  {'conf': 1.0, 'end': 7.77, 'start': 7.47, 'word': 'really'},\n",
              "  {'conf': 1.0, 'end': 8.13, 'start': 7.77, 'word': 'one'},\n",
              "  {'conf': 1.0, 'end': 8.64, 'start': 8.13, 'word': 'tidbit'},\n",
              "  {'conf': 1.0, 'end': 8.82, 'start': 8.64, 'word': 'of'},\n",
              "  {'conf': 1.0, 'end': 9.27, 'start': 8.82, 'word': 'actual'},\n",
              "  {'conf': 1.0, 'end': 9.66, 'start': 9.27, 'word': 'news'},\n",
              "  {'conf': 1.0, 'end': 9.78, 'start': 9.66, 'word': 'in'},\n",
              "  {'conf': 1.0, 'end': 9.87, 'start': 9.78, 'word': 'the'},\n",
              "  {'conf': 1.0, 'end': 10.26, 'start': 9.87, 'word': 'news'},\n",
              "  {'conf': 1.0, 'end': 10.47, 'start': 10.29, 'word': 'and'},\n",
              "  {'conf': 1.0, 'end': 10.59, 'start': 10.47, 'word': 'the'},\n",
              "  {'conf': 1.0, 'end': 10.98, 'start': 10.59, 'word': 'interest'},\n",
              "  {'conf': 1.0, 'end': 11.19, 'start': 10.98, 'word': 'rate'},\n",
              "  {'conf': 1.0, 'end': 11.79, 'start': 11.19, 'word': 'increase'},\n",
              "  {'conf': 1.0, 'end': 12.87, 'start': 12.06, 'word': \"wasn't\"},\n",
              "  {'conf': 1.0, 'end': 13.35, 'start': 12.99, 'word': 'it'},\n",
              "  {'conf': 1.0, 'end': 13.62, 'start': 13.35, 'word': 'you'},\n",
              "  {'conf': 0.797221, 'end': 13.77, 'start': 13.62, 'word': 'knew'},\n",
              "  {'conf': 1.0, 'end': 13.89, 'start': 13.77, 'word': 'it'},\n",
              "  {'conf': 1.0, 'end': 14.01, 'start': 13.89, 'word': 'was'},\n",
              "  {'conf': 1.0, 'end': 14.4, 'start': 14.01, 'word': 'coming'},\n",
              "  {'conf': 1.0, 'end': 14.85, 'start': 14.58, 'word': 'i'},\n",
              "  {'conf': 0.89833, 'end': 15.03, 'start': 14.85, 'word': 'knew'},\n",
              "  {'conf': 1.0, 'end': 15.15, 'start': 15.03, 'word': 'it'},\n",
              "  {'conf': 1.0, 'end': 15.3, 'start': 15.15, 'word': 'was'},\n",
              "  {'conf': 1.0, 'end': 15.66, 'start': 15.3, 'word': 'common'},\n",
              "  {'conf': 1.0, 'end': 16.11, 'start': 15.66, 'word': 'wall'},\n",
              "  {'conf': 1.0, 'end': 16.47, 'start': 16.11, 'word': 'street'},\n",
              "  {'conf': 1.0, 'end': 16.86, 'start': 16.47, 'word': 'news'},\n",
              "  {'conf': 1.0, 'end': 17.07, 'start': 16.86, 'word': 'come'},\n",
              "  {'conf': 1.0, 'end': 17.19, 'start': 17.07, 'word': 'and'},\n",
              "  {'conf': 1.0, 'end': 18.21, 'start': 17.19, 'word': 'businesses'},\n",
              "  {'conf': 1.0, 'end': 18.6, 'start': 18.24, 'word': 'knew'},\n",
              "  {'conf': 1.0, 'end': 18.75, 'start': 18.6, 'word': 'it'},\n",
              "  {'conf': 1.0, 'end': 18.93, 'start': 18.75, 'word': 'was'},\n",
              "  {'conf': 0.68738, 'end': 19.29, 'start': 18.93, 'word': 'common'},\n",
              "  {'conf': 1.0, 'end': 20.07, 'start': 19.74, 'word': 'so'},\n",
              "  {'conf': 1.0, 'end': 20.46, 'start': 20.07, 'word': 'on'},\n",
              "  {'conf': 1.0, 'end': 20.76, 'start': 20.49, 'word': 'this'},\n",
              "  {'conf': 1.0, 'end': 21.0, 'start': 20.76, 'word': 'fed'},\n",
              "  {'conf': 1.0, 'end': 21.21, 'start': 21.0, 'word': 'day'},\n",
              "  {'conf': 1.0, 'end': 21.33, 'start': 21.21, 'word': 'on'},\n",
              "  {'conf': 1.0, 'end': 21.48, 'start': 21.33, 'word': 'this'},\n",
              "  {'conf': 1.0, 'end': 21.9, 'start': 21.48, 'word': 'program'},\n",
              "  {'conf': 1.0, 'end': 22.29, 'start': 21.9, 'word': 'something'},\n",
              "  {'conf': 1.0, 'end': 22.35, 'start': 22.29, 'word': 'a'},\n",
              "  {'conf': 1.0, 'end': 22.53, 'start': 22.35, 'word': 'little'},\n",
              "  {'conf': 1.0, 'end': 22.65, 'start': 22.53, 'word': 'bit'},\n",
              "  {'conf': 1.0, 'end': 22.98, 'start': 22.65, 'word': 'different'},\n",
              "  {'conf': 1.0, 'end': 23.22, 'start': 22.98, 'word': 'jay'},\n",
              "  {'conf': 1.0, 'end': 23.73, 'start': 23.22, 'word': 'powell'},\n",
              "  {'conf': 1.0, 'end': 23.88, 'start': 23.73, 'word': 'in'},\n",
              "  {'conf': 1.0, 'end': 24.03, 'start': 23.88, 'word': 'his'},\n",
              "  {'conf': 1.0, 'end': 24.3, 'start': 24.03, 'word': 'own'},\n",
              "  {'conf': 1.0, 'end': 24.63, 'start': 24.3, 'word': 'words'},\n",
              "  {'conf': 1.0, 'end': 25.11, 'start': 24.63, 'word': 'five'},\n",
              "  {'conf': 1.0, 'end': 25.26, 'start': 25.11, 'word': 'of'},\n",
              "  {'conf': 1.0, 'end': 25.41, 'start': 25.26, 'word': \"'em\"},\n",
              "  {'conf': 1.0, 'end': 25.65, 'start': 25.41, 'word': 'his'},\n",
              "  {'conf': 1.0, 'end': 26.16, 'start': 25.65, 'word': 'most'},\n",
              "  {'conf': 1.0, 'end': 26.64, 'start': 26.19, 'word': 'used'},\n",
              "  {'conf': 1.0, 'end': 27.143555, 'start': 26.64, 'word': 'economic'},\n",
              "  {'conf': 0.619537, 'end': 27.36, 'start': 27.150002, 'word': 'words'},\n",
              "  {'conf': 1.0, 'end': 27.54, 'start': 27.36, 'word': 'from'},\n",
              "  {'conf': 1.0, 'end': 27.81, 'start': 27.54, 'word': \"today's\"},\n",
              "  {'conf': 1.0, 'end': 28.02, 'start': 27.81, 'word': 'press'},\n",
              "  {'conf': 1.0, 'end': 28.38, 'start': 28.02, 'word': 'conference'},\n",
              "  {'conf': 0.6294, 'end': 29.07, 'start': 28.86, 'word': 'were'},\n",
              "  {'conf': 1.0, 'end': 29.31, 'start': 29.07, 'word': 'number'},\n",
              "  {'conf': 1.0, 'end': 29.58, 'start': 29.31, 'word': 'one'},\n",
              "  {'conf': 1.0, 'end': 29.64, 'start': 29.58, 'word': 'of'},\n",
              "  {'conf': 1.0, 'end': 30.12, 'start': 29.64, 'word': 'course'},\n",
              "  {'conf': 1.0, 'end': 30.39, 'start': 30.12, 'word': \"it's\"},\n",
              "  {'conf': 1.0, 'end': 30.48, 'start': 30.39, 'word': 'the'},\n",
              "  {'conf': 1.0, 'end': 30.87, 'start': 30.48, 'word': 'biggie'},\n",
              "  {'conf': 1.0, 'end': 31.44, 'start': 31.23, 'word': 'two'},\n",
              "  {'conf': 0.523864, 'end': 31.86, 'start': 31.44, 'word': 'percent'},\n",
              "  {'conf': 1.0, 'end': 32.37, 'start': 31.92, 'word': 'inflation'},\n",
              "  {'conf': 1.0, 'end': 32.7, 'start': 32.37, 'word': 'inflation'},\n",
              "  {'conf': 1.0, 'end': 33.21, 'start': 32.7, 'word': 'inflation'},\n",
              "  {'conf': 1.0, 'end': 33.81, 'start': 33.21, 'word': 'inflation'},\n",
              "  {'conf': 1.0, 'end': 34.41, 'start': 33.84, 'word': 'inflation'},\n",
              "  {'conf': 1.0, 'end': 34.77, 'start': 34.41, 'word': 'inflation'},\n",
              "  {'conf': 0.715093, 'end': 35.07, 'start': 34.77, 'word': 'lh'},\n",
              "  {'conf': 1.0, 'end': 35.4, 'start': 35.084052, 'word': 'dealing'},\n",
              "  {'conf': 1.0, 'end': 35.55, 'start': 35.4, 'word': 'with'},\n",
              "  {'conf': 1.0, 'end': 36.03, 'start': 35.55, 'word': 'inflation'},\n",
              "  {'conf': 1.0, 'end': 36.63, 'start': 36.3, 'word': 'pals'},\n",
              "  {'conf': 1.0, 'end': 36.87, 'start': 36.63, 'word': 'big'},\n",
              "  {'conf': 1.0, 'end': 37.17, 'start': 36.87, 'word': 'worry'},\n",
              "  {'conf': 1.0, 'end': 37.29, 'start': 37.17, 'word': 'the'},\n",
              "  {'conf': 1.0, 'end': 37.56, 'start': 37.29, 'word': 'thing'},\n",
              "  {'conf': 1.0, 'end': 37.92, 'start': 37.56, 'word': 'keeping'},\n",
              "  {'conf': 1.0, 'end': 38.07, 'start': 37.92, 'word': 'him'},\n",
              "  {'conf': 1.0, 'end': 38.25, 'start': 38.07, 'word': 'up'},\n",
              "  {'conf': 1.0, 'end': 38.37, 'start': 38.25, 'word': 'at'},\n",
              "  {'conf': 1.0, 'end': 38.67, 'start': 38.37, 'word': 'night'},\n",
              "  {'conf': 1.0, 'end': 39.27, 'start': 38.67, 'word': 'price'},\n",
              "  {'conf': 1.0, 'end': 40.38, 'start': 39.3, 'word': 'stability'},\n",
              "  {'conf': 1.0, 'end': 40.65, 'start': 40.38, 'word': 'is'},\n",
              "  {'conf': 1.0, 'end': 40.77, 'start': 40.65, 'word': 'the'},\n",
              "  {'conf': 0.997509, 'end': 41.13, 'start': 40.77, 'word': \"fed's\"},\n",
              "  {'conf': 1.0, 'end': 41.67, 'start': 41.16, 'word': 'whole'},\n",
              "  {'conf': 0.97196, 'end': 42.3, 'start': 41.67, 'word': 'ballgame'},\n",
              "  {'conf': 1.0, 'end': 42.48, 'start': 42.3, 'word': 'right'},\n",
              "  {'conf': 1.0, 'end': 42.72, 'start': 42.48, 'word': 'now'},\n",
              "  {'conf': 0.514106, 'end': 43.14, 'start': 42.72, 'word': 'pau'},\n",
              "  {'conf': 1.0, 'end': 43.62, 'start': 43.14, 'word': 'basically'},\n",
              "  {'conf': 1.0, 'end': 44.04, 'start': 43.62, 'word': 'said'},\n",
              "  {'conf': 1.0, 'end': 44.28, 'start': 44.04, 'word': 'as'},\n",
              "  {'conf': 1.0, 'end': 44.64, 'start': 44.28, 'word': 'much'},\n",
              "  {'conf': 1.0, 'end': 45.15, 'start': 44.76, 'word': 'today'},\n",
              "  {'conf': 1.0, 'end': 45.3, 'start': 45.15, 'word': \"we're\"},\n",
              "  {'conf': 1.0, 'end': 45.51, 'start': 45.3, 'word': 'number'},\n",
              "  {'conf': 1.0, 'end': 45.9, 'start': 45.51, 'word': 'two'},\n",
              "  {'conf': 1.0, 'end': 46.17, 'start': 46.02906, 'word': 'the'},\n",
              "  {'conf': 1.0, 'end': 46.56, 'start': 46.17, 'word': 'funny'},\n",
              "  {'conf': 1.0, 'end': 46.95, 'start': 46.56, 'word': 'thing'},\n",
              "  {'conf': 1.0, 'end': 47.22, 'start': 46.95, 'word': 'about'},\n",
              "  {'conf': 1.0, 'end': 47.31, 'start': 47.22, 'word': 'the'},\n",
              "  {'conf': 1.0, 'end': 47.67, 'start': 47.31, 'word': 'big'},\n",
              "  {'conf': 1.0, 'end': 48.21, 'start': 47.7, 'word': 'economic'},\n",
              "  {'conf': 1.0, 'end': 48.48, 'start': 48.21, 'word': 'news'},\n",
              "  {'conf': 1.0, 'end': 48.57, 'start': 48.48, 'word': 'of'},\n",
              "  {'conf': 1.0, 'end': 48.66, 'start': 48.57, 'word': 'the'},\n",
              "  {'conf': 1.0, 'end': 49.05, 'start': 48.66, 'word': 'day'},\n",
              "  {'conf': 1.0, 'end': 49.74, 'start': 49.62, 'word': 'the'},\n",
              "  {'conf': 1.0, 'end': 49.95, 'start': 49.74, 'word': 'fed'},\n",
              "  {'conf': 1.0, 'end': 50.25, 'start': 49.95, 'word': 'raising'},\n",
              "  {'conf': 1.0, 'end': 50.58, 'start': 50.25, 'word': 'interest'},\n",
              "  {'conf': 1.0, 'end': 50.97, 'start': 50.58, 'word': 'rates'},\n",
              "  {'conf': 1.0, 'end': 51.27, 'start': 51.0, 'word': 'half'},\n",
              "  {'conf': 1.0, 'end': 51.33, 'start': 51.27, 'word': 'a'},\n",
              "  {'conf': 1.0, 'end': 51.72, 'start': 51.33, 'word': 'percentage'},\n",
              "  {'conf': 1.0, 'end': 51.99, 'start': 51.72, 'word': 'point'},\n",
              "  {'conf': 1.0, 'end': 52.86, 'start': 52.59, 'word': 'was'},\n",
              "  {'conf': 1.0, 'end': 52.98, 'start': 52.86, 'word': 'that'},\n",
              "  {'conf': 1.0, 'end': 53.1, 'start': 52.98, 'word': 'there'},\n",
              "  {'conf': 1.0, 'end': 53.22, 'start': 53.1, 'word': 'was'},\n",
              "  {'conf': 1.0, 'end': 53.49, 'start': 53.22, 'word': 'only'},\n",
              "  {'conf': 1.0, 'end': 53.79, 'start': 53.49, 'word': 'really'},\n",
              "  {'conf': 1.0, 'end': 54.12, 'start': 53.79, 'word': 'one'},\n",
              "  {'conf': 1.0, 'end': 54.63, 'start': 54.12, 'word': 'tidbit'},\n",
              "  {'conf': 1.0, 'end': 54.81, 'start': 54.63, 'word': 'of'},\n",
              "  {'conf': 1.0, 'end': 55.26, 'start': 54.81, 'word': 'actual'},\n",
              "  {'conf': 1.0, 'end': 55.65, 'start': 55.26, 'word': 'news'},\n",
              "  {'conf': 1.0, 'end': 55.8, 'start': 55.65, 'word': 'in'},\n",
              "  {'conf': 1.0, 'end': 55.86, 'start': 55.8, 'word': 'the'},\n",
              "  {'conf': 1.0, 'end': 56.25, 'start': 55.86, 'word': 'news'},\n",
              "  {'conf': 1.0, 'end': 56.46, 'start': 56.28, 'word': 'and'},\n",
              "  {'conf': 1.0, 'end': 56.61, 'start': 56.46, 'word': 'the'},\n",
              "  {'conf': 1.0, 'end': 57.0, 'start': 56.61, 'word': 'interest'},\n",
              "  {'conf': 1.0, 'end': 57.18, 'start': 57.0, 'word': 'rate'},\n",
              "  {'conf': 1.0, 'end': 57.81, 'start': 57.18, 'word': 'increase'},\n",
              "  {'conf': 1.0, 'end': 58.86, 'start': 58.05, 'word': \"wasn't\"},\n",
              "  {'conf': 1.0, 'end': 59.34, 'start': 59.01, 'word': 'it'},\n",
              "  {'conf': 1.0, 'end': 59.61, 'start': 59.34, 'word': 'you'},\n",
              "  {'conf': 0.693615, 'end': 59.76, 'start': 59.610004, 'word': 'know'},\n",
              "  {'conf': 1.0, 'end': 59.88, 'start': 59.76, 'word': 'it'},\n",
              "  {'conf': 1.0, 'end': 60.03, 'start': 59.88, 'word': 'was'},\n",
              "  {'conf': 0.562293, 'end': 60.420004, 'start': 60.030004, 'word': 'coming'},\n",
              "  {'conf': 1.0, 'end': 60.84, 'start': 60.57, 'word': 'i'},\n",
              "  {'conf': 0.575379, 'end': 61.02, 'start': 60.840004, 'word': 'knew'},\n",
              "  {'conf': 1.0, 'end': 61.14, 'start': 61.02, 'word': 'it'},\n",
              "  {'conf': 1.0, 'end': 61.29, 'start': 61.14, 'word': 'was'},\n",
              "  {'conf': 1.0, 'end': 61.65, 'start': 61.29, 'word': 'common'},\n",
              "  {'conf': 1.0, 'end': 62.13, 'start': 61.65, 'word': 'wall'},\n",
              "  {'conf': 1.0, 'end': 62.46, 'start': 62.13, 'word': 'street'},\n",
              "  {'conf': 1.0, 'end': 62.85, 'start': 62.49, 'word': 'news'},\n",
              "  {'conf': 0.708967, 'end': 63.09, 'start': 62.85, 'word': 'come'},\n",
              "  {'conf': 0.708967, 'end': 63.18, 'start': 63.09, 'word': 'and'},\n",
              "  {'conf': 1.0, 'end': 64.23, 'start': 63.18, 'word': 'businesses'},\n",
              "  {'conf': 1.0, 'end': 64.59, 'start': 64.23, 'word': 'knew'},\n",
              "  {'conf': 1.0, 'end': 64.74, 'start': 64.59, 'word': 'it'},\n",
              "  {'conf': 1.0, 'end': 64.92, 'start': 64.74, 'word': 'was'},\n",
              "  {'conf': 0.740847, 'end': 65.28, 'start': 64.92, 'word': 'common'},\n",
              "  {'conf': 1.0, 'end': 66.06, 'start': 65.76, 'word': 'so'},\n",
              "  {'conf': 1.0, 'end': 66.45, 'start': 66.06, 'word': 'on'},\n",
              "  {'conf': 1.0, 'end': 66.78, 'start': 66.51, 'word': 'this'},\n",
              "  {'conf': 1.0, 'end': 67.02, 'start': 66.78, 'word': 'fed'},\n",
              "  {'conf': 1.0, 'end': 67.2, 'start': 67.02, 'word': 'day'},\n",
              "  {'conf': 1.0, 'end': 67.35, 'start': 67.2, 'word': 'on'},\n",
              "  {'conf': 1.0, 'end': 67.47, 'start': 67.35, 'word': 'this'},\n",
              "  {'conf': 1.0, 'end': 67.92, 'start': 67.47, 'word': 'program'},\n",
              "  {'conf': 1.0, 'end': 68.28, 'start': 67.92, 'word': 'something'},\n",
              "  {'conf': 1.0, 'end': 68.37, 'start': 68.28, 'word': 'a'},\n",
              "  {'conf': 1.0, 'end': 68.55, 'start': 68.37, 'word': 'little'},\n",
              "  {'conf': 1.0, 'end': 68.67, 'start': 68.55, 'word': 'bit'},\n",
              "  {'conf': 1.0, 'end': 68.97, 'start': 68.67, 'word': 'different'},\n",
              "  {'conf': 1.0, 'end': 69.24, 'start': 68.97, 'word': 'jay'},\n",
              "  {'conf': 1.0, 'end': 69.72, 'start': 69.24, 'word': 'powell'},\n",
              "  {'conf': 1.0, 'end': 69.87, 'start': 69.72, 'word': 'in'},\n",
              "  {'conf': 1.0, 'end': 70.02, 'start': 69.87, 'word': 'his'},\n",
              "  {'conf': 1.0, 'end': 70.32, 'start': 70.02, 'word': 'own'},\n",
              "  {'conf': 1.0, 'end': 70.65, 'start': 70.32, 'word': 'words'},\n",
              "  {'conf': 1.0, 'end': 71.13, 'start': 70.65, 'word': 'five'},\n",
              "  {'conf': 1.0, 'end': 71.28, 'start': 71.13, 'word': 'of'},\n",
              "  {'conf': 1.0, 'end': 71.4, 'start': 71.28, 'word': \"'em\"},\n",
              "  {'conf': 1.0, 'end': 71.67, 'start': 71.4, 'word': 'his'},\n",
              "  {'conf': 1.0, 'end': 72.15, 'start': 71.67, 'word': 'most'},\n",
              "  {'conf': 1.0, 'end': 72.66, 'start': 72.18, 'word': 'used'},\n",
              "  {'conf': 1.0, 'end': 73.14, 'start': 72.66, 'word': 'economic'},\n",
              "  {'conf': 0.577915, 'end': 73.372976, 'start': 73.14, 'word': 'words'},\n",
              "  {'conf': 1.0, 'end': 73.56, 'start': 73.372976, 'word': 'from'},\n",
              "  {'conf': 1.0, 'end': 73.83, 'start': 73.56, 'word': \"today's\"},\n",
              "  {'conf': 1.0, 'end': 74.04, 'start': 73.83, 'word': 'press'},\n",
              "  {'conf': 1.0, 'end': 74.4, 'start': 74.04, 'word': 'conference'},\n",
              "  {'conf': 0.589322, 'end': 75.086726, 'start': 74.88, 'word': 'were'},\n",
              "  {'conf': 1.0, 'end': 75.3, 'start': 75.086726, 'word': 'number'},\n",
              "  {'conf': 1.0, 'end': 75.57, 'start': 75.3, 'word': 'one'},\n",
              "  {'conf': 1.0, 'end': 75.66, 'start': 75.57, 'word': 'of'},\n",
              "  {'conf': 1.0, 'end': 76.14, 'start': 75.66, 'word': 'course'},\n",
              "  {'conf': 1.0, 'end': 76.38, 'start': 76.14, 'word': \"it's\"},\n",
              "  {'conf': 1.0, 'end': 76.47, 'start': 76.38, 'word': 'the'},\n",
              "  {'conf': 1.0, 'end': 76.86, 'start': 76.47, 'word': 'biggie'},\n",
              "  {'conf': 1.0, 'end': 77.43, 'start': 77.22, 'word': 'two'},\n",
              "  {'conf': 0.59525, 'end': 77.88, 'start': 77.43, 'word': 'percent'},\n",
              "  {'conf': 1.0, 'end': 78.36, 'start': 77.94, 'word': 'inflation'},\n",
              "  {'conf': 1.0, 'end': 78.69, 'start': 78.36, 'word': 'inflation'},\n",
              "  {'conf': 1.0, 'end': 79.2, 'start': 78.69, 'word': 'inflation'},\n",
              "  {'conf': 1.0, 'end': 79.83, 'start': 79.2, 'word': 'inflation'},\n",
              "  {'conf': 1.0, 'end': 80.4, 'start': 79.86, 'word': 'inflation'},\n",
              "  {'conf': 1.0, 'end': 80.79, 'start': 80.4, 'word': 'inflation'},\n",
              "  {'conf': 0.884015, 'end': 81.09, 'start': 80.79, 'word': 'lh'},\n",
              "  {'conf': 1.0, 'end': 81.39, 'start': 81.09, 'word': 'dealing'},\n",
              "  {'conf': 1.0, 'end': 81.54, 'start': 81.39, 'word': 'with'},\n",
              "  {'conf': 1.0, 'end': 82.02, 'start': 81.54, 'word': 'inflation'},\n",
              "  {'conf': 1.0, 'end': 82.62, 'start': 82.32, 'word': 'pals'},\n",
              "  {'conf': 1.0, 'end': 82.86, 'start': 82.62, 'word': 'big'},\n",
              "  {'conf': 1.0, 'end': 83.16, 'start': 82.86, 'word': 'worry'},\n",
              "  {'conf': 1.0, 'end': 83.28, 'start': 83.16, 'word': 'the'},\n",
              "  {'conf': 1.0, 'end': 83.55, 'start': 83.28, 'word': 'thing'},\n",
              "  {'conf': 1.0, 'end': 83.94, 'start': 83.55, 'word': 'keeping'},\n",
              "  {'conf': 1.0, 'end': 84.06, 'start': 83.94, 'word': 'him'},\n",
              "  {'conf': 1.0, 'end': 84.24, 'start': 84.06, 'word': 'up'},\n",
              "  {'conf': 1.0, 'end': 84.36, 'start': 84.24, 'word': 'at'},\n",
              "  {'conf': 1.0, 'end': 84.69, 'start': 84.36, 'word': 'night'},\n",
              "  {'conf': 1.0, 'end': 85.26, 'start': 84.69, 'word': 'price'},\n",
              "  {'conf': 1.0, 'end': 86.4, 'start': 85.32, 'word': 'stability'},\n",
              "  {'conf': 1.0, 'end': 86.64, 'start': 86.4, 'word': 'is'},\n",
              "  {'conf': 1.0, 'end': 86.76, 'start': 86.64, 'word': 'the'},\n",
              "  {'conf': 1.0, 'end': 87.15, 'start': 86.76, 'word': \"fed's\"},\n",
              "  {'conf': 1.0, 'end': 87.66, 'start': 87.18, 'word': 'whole'},\n",
              "  {'conf': 1.0, 'end': 88.29, 'start': 87.66, 'word': 'ballgame'},\n",
              "  {'conf': 1.0, 'end': 88.5, 'start': 88.29, 'word': 'right'},\n",
              "  {'conf': 1.0, 'end': 88.71, 'start': 88.5, 'word': 'now'},\n",
              "  {'conf': 0.528598, 'end': 89.13, 'start': 88.71, 'word': 'pau'},\n",
              "  {'conf': 1.0, 'end': 89.64, 'start': 89.137573, 'word': 'basically'},\n",
              "  {'conf': 1.0, 'end': 90.03, 'start': 89.64, 'word': 'said'},\n",
              "  {'conf': 1.0, 'end': 90.27, 'start': 90.03, 'word': 'as'},\n",
              "  {'conf': 1.0, 'end': 90.63, 'start': 90.27, 'word': 'much'},\n",
              "  {'conf': 1.0, 'end': 91.17, 'start': 90.75, 'word': 'today'},\n",
              "  {'conf': 0.835467, 'end': 91.32, 'start': 91.17, 'word': \"we're\"},\n",
              "  {'conf': 0.35134, 'end': 91.44, 'start': 91.32, 'word': 'done'}],\n",
              " 'text': \"the funny thing about the big economic news of the day the fed raising interest rates half a percentage point was that there was only really one tidbit of actual news in the news and the interest rate increase wasn't it you knew it was coming i knew it was common wall street news come and businesses knew it was common so on this fed day on this program something a little bit different jay powell in his own words five of 'em his most used economic words from today's press conference were number one of course it's the biggie two percent inflation inflation inflation inflation inflation inflation lh dealing with inflation pals big worry the thing keeping him up at night price stability is the fed's whole ballgame right now pau basically said as much today we're number two the funny thing about the big economic news of the day the fed raising interest rates half a percentage point was that there was only really one tidbit of actual news in the news and the interest rate increase wasn't it you know it was coming i knew it was common wall street news come and businesses knew it was common so on this fed day on this program something a little bit different jay powell in his own words five of 'em his most used economic words from today's press conference were number one of course it's the biggie two percent inflation inflation inflation inflation inflation inflation lh dealing with inflation pals big worry the thing keeping him up at night price stability is the fed's whole ballgame right now pau basically said as much today we're done\"}"
            ]
          },
          "metadata": {},
          "execution_count": 11
        }
      ]
    },
    {
      "cell_type": "code",
      "source": [
        "from google.colab import drive\n",
        "drive.mount('/content/drive')\n"
      ],
      "metadata": {
        "colab": {
          "base_uri": "https://localhost:8080/"
        },
        "collapsed": true,
        "id": "QRS18UQ6qKbL",
        "outputId": "fd6a0f1b-a8c4-4fb9-bcfa-7dfdb662a8c4"
      },
      "execution_count": null,
      "outputs": [
        {
          "output_type": "stream",
          "name": "stderr",
          "text": [
            "Exception ignored in: <function Model.__del__ at 0x7917021904a0>\n",
            "Traceback (most recent call last):\n",
            "  File \"/usr/local/lib/python3.11/dist-packages/vosk/__init__.py\", line 60, in __del__\n",
            "    _c.vosk_model_free(self._handle)\n",
            "                       ^^^^^^^^^^^^\n",
            "AttributeError: 'Model' object has no attribute '_handle'\n"
          ]
        },
        {
          "output_type": "stream",
          "name": "stdout",
          "text": [
            "Mounted at /content/drive\n"
          ]
        }
      ]
    },
    {
      "cell_type": "code",
      "source": [
        "import zipfile\n",
        "import os\n",
        "\n",
        "zip_path = \"/content/drive/My Drive/vosk-recasepunc-en-0.22.zip\"\n",
        "extract_path = \"/content/unzipped\"\n",
        "\n",
        "with zipfile.ZipFile(zip_path, 'r') as zip_ref:\n",
        "    zip_ref.extractall(extract_path)\n",
        "\n",
        "print(\"Extraction complete!\")"
      ],
      "metadata": {
        "colab": {
          "base_uri": "https://localhost:8080/"
        },
        "id": "iqArC-OjsntW",
        "outputId": "7933ec12-ffd2-49ca-a001-04fd3391a8b4"
      },
      "execution_count": null,
      "outputs": [
        {
          "output_type": "stream",
          "name": "stdout",
          "text": [
            "Extraction complete!\n"
          ]
        }
      ]
    },
    {
      "cell_type": "code",
      "source": [
        "def voice_recognition(filename):\n",
        "    model = Model(model_name = 'vosk-model-en-us-0.22')\n",
        "\n",
        "    rec = KaldiRecognizer(model, FRAME_RATE)\n",
        "    rec.SetWords(True)\n",
        "\n",
        "    mp3 = AudioSegment.from_mp3(filename)\n",
        "    mp3 = mp3.set_channels(CHANNELS)\n",
        "    mp3 = mp3.set_frame_rate(FRAME_RATE)\n",
        "\n",
        "    step = 4500\n",
        "    transcript = \"\"\n",
        "    for i in range(0, len(mp3), step):\n",
        "        print(f'progress: {i/len(mp3)}')\n",
        "        segment = mp3[i:i+step]\n",
        "\n",
        "        rec. AcceptWaveform(segment.raw_data)\n",
        "        result = rec.Result()\n",
        "\n",
        "        text = json.loads(result)['text']\n",
        "        transcript += text\n",
        "\n",
        "    return transcript\n",
        "\n"
      ],
      "metadata": {
        "id": "669Ph_VJv6ok"
      },
      "execution_count": null,
      "outputs": []
    },
    {
      "cell_type": "code",
      "source": [
        "voice_recognition('marketplace.mp3')"
      ],
      "metadata": {
        "id": "PKFGP50R52aX"
      },
      "execution_count": null,
      "outputs": []
    }
  ]
}